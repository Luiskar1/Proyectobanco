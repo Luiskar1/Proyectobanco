{
  "nbformat": 4,
  "nbformat_minor": 0,
  "metadata": {
    "colab": {
      "name": "Proyectobanco2022.ipynb",
      "provenance": [],
      "collapsed_sections": [],
      "mount_file_id": "1wOd6v8mwz014Y7i1gvC4cf5Izs6jhtsK",
      "authorship_tag": "ABX9TyNSWoOrZAskTzahyyf/nJrV",
      "include_colab_link": true
    },
    "kernelspec": {
      "name": "python3",
      "display_name": "Python 3"
    },
    "language_info": {
      "name": "python"
    }
  },
  "cells": [
    {
      "cell_type": "markdown",
      "metadata": {
        "id": "view-in-github",
        "colab_type": "text"
      },
      "source": [
        "<a href=\"https://colab.research.google.com/github/Luiskar1/Proyectobanco/blob/main/Proyectobanco2022.ipynb\" target=\"_parent\"><img src=\"https://colab.research.google.com/assets/colab-badge.svg\" alt=\"Open In Colab\"/></a>"
      ]
    },
    {
      "cell_type": "markdown",
      "source": [
        "# **1) Descripción del Problema**\n",
        "\n",
        "Las amenazas financieras están mostrando una tendencia sobre el riesgo crediticio de los bancos comerciales a medida que ha surgido la increíble mejora en la industria financiera. De esta forma, una de las mayores amenazas a las que se enfrentan los bancos comerciales es la predicción del riesgo de los clientes de crédito.\n",
        "\n",
        "Los estudios recientes se centran principalmente en mejorar el rendimiento del clasificador para la predicción de incumplimiento de tarjetas en lugar de un modelo "
      ],
      "metadata": {
        "id": "cIp3YKFwWxuQ"
      }
    },
    {
      "cell_type": "markdown",
      "source": [
        "# **2) Descripción de los Datos**\n"
      ],
      "metadata": {
        "id": "KTmo8wrBY-AL"
      }
    },
    {
      "cell_type": "markdown",
      "source": [
        "##**2.1 Librerías**\n",
        "Llamar o instalar\n"
      ],
      "metadata": {
        "id": "GsdeetmMYzXK"
      }
    },
    {
      "cell_type": "code",
      "source": [
        "!pip install numpy"
      ],
      "metadata": {
        "colab": {
          "base_uri": "https://localhost:8080/"
        },
        "id": "elMa2nmHZ7aK",
        "outputId": "ba86ce2f-fff5-4d31-c85b-677a3c75024a"
      },
      "execution_count": 1,
      "outputs": [
        {
          "output_type": "stream",
          "name": "stdout",
          "text": [
            "Requirement already satisfied: numpy in /usr/local/lib/python3.7/dist-packages (1.21.6)\n"
          ]
        }
      ]
    },
    {
      "cell_type": "code",
      "source": [
        "import numpy as np\n",
        "import pandas as pd\n"
      ],
      "metadata": {
        "id": "TZSSMWReaT1X"
      },
      "execution_count": 2,
      "outputs": []
    },
    {
      "cell_type": "markdown",
      "source": [
        "## **2.2 Importar datos**"
      ],
      "metadata": {
        "id": "pbiwl4Alaj7R"
      }
    },
    {
      "cell_type": "code",
      "source": [
        "url = \"https://raw.githubusercontent.com/Luiskar1/Proyectobanco/main/UCI_Credit_Card.csv\"\n",
        "df=pd.read_csv(url)"
      ],
      "metadata": {
        "id": "Vh8nYAMyanvv"
      },
      "execution_count": 3,
      "outputs": []
    },
    {
      "cell_type": "markdown",
      "source": [
        "##Encabezado"
      ],
      "metadata": {
        "id": "bJX7ThobcbEi"
      }
    },
    {
      "cell_type": "code",
      "source": [
        "df.head()"
      ],
      "metadata": {
        "colab": {
          "base_uri": "https://localhost:8080/",
          "height": 235
        },
        "id": "U5IrE1E9bzsu",
        "outputId": "005a12f6-1631-4786-a382-c02d2e27edb9"
      },
      "execution_count": 4,
      "outputs": [
        {
          "output_type": "execute_result",
          "data": {
            "text/plain": [
              "   ID  LIMIT_BAL  SEX  EDUCATION  MARRIAGE  AGE  PAY_0  PAY_2  PAY_3  PAY_4  \\\n",
              "0   1    20000.0    2          2         1   24      2      2     -1     -1   \n",
              "1   2   120000.0    2          2         2   26     -1      2      0      0   \n",
              "2   3    90000.0    2          2         2   34      0      0      0      0   \n",
              "3   4    50000.0    2          2         1   37      0      0      0      0   \n",
              "4   5    50000.0    1          2         1   57     -1      0     -1      0   \n",
              "\n",
              "   ...  BILL_AMT4  BILL_AMT5  BILL_AMT6  PAY_AMT1  PAY_AMT2  PAY_AMT3  \\\n",
              "0  ...        0.0        0.0        0.0       0.0     689.0       0.0   \n",
              "1  ...     3272.0     3455.0     3261.0       0.0    1000.0    1000.0   \n",
              "2  ...    14331.0    14948.0    15549.0    1518.0    1500.0    1000.0   \n",
              "3  ...    28314.0    28959.0    29547.0    2000.0    2019.0    1200.0   \n",
              "4  ...    20940.0    19146.0    19131.0    2000.0   36681.0   10000.0   \n",
              "\n",
              "   PAY_AMT4  PAY_AMT5  PAY_AMT6  default.payment.next.month  \n",
              "0       0.0       0.0       0.0                           1  \n",
              "1    1000.0       0.0    2000.0                           1  \n",
              "2    1000.0    1000.0    5000.0                           0  \n",
              "3    1100.0    1069.0    1000.0                           0  \n",
              "4    9000.0     689.0     679.0                           0  \n",
              "\n",
              "[5 rows x 25 columns]"
            ],
            "text/html": [
              "<div>\n",
              "<style scoped>\n",
              "    .dataframe tbody tr th:only-of-type {\n",
              "        vertical-align: middle;\n",
              "    }\n",
              "\n",
              "    .dataframe tbody tr th {\n",
              "        vertical-align: top;\n",
              "    }\n",
              "\n",
              "    .dataframe thead th {\n",
              "        text-align: right;\n",
              "    }\n",
              "</style>\n",
              "<table border=\"1\" class=\"dataframe\">\n",
              "  <thead>\n",
              "    <tr style=\"text-align: right;\">\n",
              "      <th></th>\n",
              "      <th>ID</th>\n",
              "      <th>LIMIT_BAL</th>\n",
              "      <th>SEX</th>\n",
              "      <th>EDUCATION</th>\n",
              "      <th>MARRIAGE</th>\n",
              "      <th>AGE</th>\n",
              "      <th>PAY_0</th>\n",
              "      <th>PAY_2</th>\n",
              "      <th>PAY_3</th>\n",
              "      <th>PAY_4</th>\n",
              "      <th>...</th>\n",
              "      <th>BILL_AMT4</th>\n",
              "      <th>BILL_AMT5</th>\n",
              "      <th>BILL_AMT6</th>\n",
              "      <th>PAY_AMT1</th>\n",
              "      <th>PAY_AMT2</th>\n",
              "      <th>PAY_AMT3</th>\n",
              "      <th>PAY_AMT4</th>\n",
              "      <th>PAY_AMT5</th>\n",
              "      <th>PAY_AMT6</th>\n",
              "      <th>default.payment.next.month</th>\n",
              "    </tr>\n",
              "  </thead>\n",
              "  <tbody>\n",
              "    <tr>\n",
              "      <th>0</th>\n",
              "      <td>1</td>\n",
              "      <td>20000.0</td>\n",
              "      <td>2</td>\n",
              "      <td>2</td>\n",
              "      <td>1</td>\n",
              "      <td>24</td>\n",
              "      <td>2</td>\n",
              "      <td>2</td>\n",
              "      <td>-1</td>\n",
              "      <td>-1</td>\n",
              "      <td>...</td>\n",
              "      <td>0.0</td>\n",
              "      <td>0.0</td>\n",
              "      <td>0.0</td>\n",
              "      <td>0.0</td>\n",
              "      <td>689.0</td>\n",
              "      <td>0.0</td>\n",
              "      <td>0.0</td>\n",
              "      <td>0.0</td>\n",
              "      <td>0.0</td>\n",
              "      <td>1</td>\n",
              "    </tr>\n",
              "    <tr>\n",
              "      <th>1</th>\n",
              "      <td>2</td>\n",
              "      <td>120000.0</td>\n",
              "      <td>2</td>\n",
              "      <td>2</td>\n",
              "      <td>2</td>\n",
              "      <td>26</td>\n",
              "      <td>-1</td>\n",
              "      <td>2</td>\n",
              "      <td>0</td>\n",
              "      <td>0</td>\n",
              "      <td>...</td>\n",
              "      <td>3272.0</td>\n",
              "      <td>3455.0</td>\n",
              "      <td>3261.0</td>\n",
              "      <td>0.0</td>\n",
              "      <td>1000.0</td>\n",
              "      <td>1000.0</td>\n",
              "      <td>1000.0</td>\n",
              "      <td>0.0</td>\n",
              "      <td>2000.0</td>\n",
              "      <td>1</td>\n",
              "    </tr>\n",
              "    <tr>\n",
              "      <th>2</th>\n",
              "      <td>3</td>\n",
              "      <td>90000.0</td>\n",
              "      <td>2</td>\n",
              "      <td>2</td>\n",
              "      <td>2</td>\n",
              "      <td>34</td>\n",
              "      <td>0</td>\n",
              "      <td>0</td>\n",
              "      <td>0</td>\n",
              "      <td>0</td>\n",
              "      <td>...</td>\n",
              "      <td>14331.0</td>\n",
              "      <td>14948.0</td>\n",
              "      <td>15549.0</td>\n",
              "      <td>1518.0</td>\n",
              "      <td>1500.0</td>\n",
              "      <td>1000.0</td>\n",
              "      <td>1000.0</td>\n",
              "      <td>1000.0</td>\n",
              "      <td>5000.0</td>\n",
              "      <td>0</td>\n",
              "    </tr>\n",
              "    <tr>\n",
              "      <th>3</th>\n",
              "      <td>4</td>\n",
              "      <td>50000.0</td>\n",
              "      <td>2</td>\n",
              "      <td>2</td>\n",
              "      <td>1</td>\n",
              "      <td>37</td>\n",
              "      <td>0</td>\n",
              "      <td>0</td>\n",
              "      <td>0</td>\n",
              "      <td>0</td>\n",
              "      <td>...</td>\n",
              "      <td>28314.0</td>\n",
              "      <td>28959.0</td>\n",
              "      <td>29547.0</td>\n",
              "      <td>2000.0</td>\n",
              "      <td>2019.0</td>\n",
              "      <td>1200.0</td>\n",
              "      <td>1100.0</td>\n",
              "      <td>1069.0</td>\n",
              "      <td>1000.0</td>\n",
              "      <td>0</td>\n",
              "    </tr>\n",
              "    <tr>\n",
              "      <th>4</th>\n",
              "      <td>5</td>\n",
              "      <td>50000.0</td>\n",
              "      <td>1</td>\n",
              "      <td>2</td>\n",
              "      <td>1</td>\n",
              "      <td>57</td>\n",
              "      <td>-1</td>\n",
              "      <td>0</td>\n",
              "      <td>-1</td>\n",
              "      <td>0</td>\n",
              "      <td>...</td>\n",
              "      <td>20940.0</td>\n",
              "      <td>19146.0</td>\n",
              "      <td>19131.0</td>\n",
              "      <td>2000.0</td>\n",
              "      <td>36681.0</td>\n",
              "      <td>10000.0</td>\n",
              "      <td>9000.0</td>\n",
              "      <td>689.0</td>\n",
              "      <td>679.0</td>\n",
              "      <td>0</td>\n",
              "    </tr>\n",
              "  </tbody>\n",
              "</table>\n",
              "<p>5 rows × 25 columns</p>\n",
              "</div>"
            ]
          },
          "metadata": {},
          "execution_count": 4
        }
      ]
    },
    {
      "cell_type": "markdown",
      "source": [
        "## **2.3 Dimension BD**"
      ],
      "metadata": {
        "id": "i1jhEFTgchlK"
      }
    },
    {
      "cell_type": "code",
      "source": [
        "print(df.shape)"
      ],
      "metadata": {
        "colab": {
          "base_uri": "https://localhost:8080/"
        },
        "id": "BZU5twgNcj2j",
        "outputId": "417fa4ee-f5c8-43af-814c-2631c442e4c3"
      },
      "execution_count": 5,
      "outputs": [
        {
          "output_type": "stream",
          "name": "stdout",
          "text": [
            "(30000, 25)\n"
          ]
        }
      ]
    },
    {
      "cell_type": "markdown",
      "source": [
        "##**2.4 Diccionario**\n",
        "ID : ID de cada cliente\n",
        "Monto_Credito : cantidad del crédito otorgado en dólares NT (incluye crédito individual y familiar / suplementario\n",
        "SEXO : Género (1 = masculino, 2 = femenino)\n",
        "EDUCACIÓN : (1 = posgrado, 2 = universidad, 3 = bachillerato, 4 = otros, 5 = desconocido, 6 = desconocido)\n",
        "MATRIMONIO : Estado civil (1 = casado, 2 = soltero, 3 = otros)\n",
        "EDAD : Edad en años\n",
        "PAY_0 : Estado de reembolso en septiembre de 2005 (-1 = pago debidamente, 1 = retraso en el pago durante un mes, 2 = retraso en el pago durante dos meses,… 8 = retraso en el pago durante ocho meses, 9 = retraso en el pago durante nueve meses o más)\n",
        "PAY_2 : Estado de reembolso en agosto de 2005 (escala igual a la anterior)\n",
        "PAY_3 : Estado de reembolso en julio de 2005 (escala igual a la anterior)\n",
        "PAY_4 : Estado de reembolso en junio de 2005 (escala igual a la anterior)\n",
        "PAY_5 : Estado de reembolso en mayo de 2005 (escala igual a la anterior)\n",
        "PAY_6 : Estado de reembolso en abril de 2005 (escala igual a la anterior)\n",
        "BILL_AMT1 : Monto del extracto de la factura en septiembre de 2005 (dólar NT)\n",
        "BILL_AMT2 : Monto del extracto de la factura en agosto de 2005 (dólar NT)\n",
        "BILL_AMT3 : Monto del extracto de la factura en julio de 2005 (dólar NT)\n",
        "BILL_AMT4 : Monto del extracto de la factura en junio de 2005 (dólar NT)\n",
        "BILL_AMT5 : Monto del extracto de la factura en mayo de 2005 (dólar NT)\n",
        "BILL_AMT6 : Monto del extracto de la factura en abril de 2005 (dólar NT)\n",
        "PAY_AMT1 : Monto del pago anterior en septiembre de 2005 (dólar NT)\n",
        "PAY_AMT2 : Monto del pago anterior en agosto de 2005 (dólar NT)\n",
        "PAY_AMT3 : Monto del pago anterior en julio de 2005 (dólar NT)\n",
        "PAY_AMT4 : Monto del pago anterior en junio de 2005 (dólar NT)\n",
        "PAY_AMT5 : Monto del pago anterior en mayo de 2005 (dólar NT)\n",
        "PAY_AMT6 : Monto del pago anterior en abril de 2005 (dólar NT)\n",
        "default.payment.next.month : pago predeterminado (1 = sí, 0 = no)"
      ],
      "metadata": {
        "id": "8y5RHcA9cs-T"
      }
    },
    {
      "cell_type": "code",
      "source": [
        "print(df.columns.to_list())"
      ],
      "metadata": {
        "colab": {
          "base_uri": "https://localhost:8080/"
        },
        "id": "LdsIHGMRc5GQ",
        "outputId": "f4fb958f-485f-44f5-fd98-382269766abd"
      },
      "execution_count": 6,
      "outputs": [
        {
          "output_type": "stream",
          "name": "stdout",
          "text": [
            "['ID', 'LIMIT_BAL', 'SEX', 'EDUCATION', 'MARRIAGE', 'AGE', 'PAY_0', 'PAY_2', 'PAY_3', 'PAY_4', 'PAY_5', 'PAY_6', 'BILL_AMT1', 'BILL_AMT2', 'BILL_AMT3', 'BILL_AMT4', 'BILL_AMT5', 'BILL_AMT6', 'PAY_AMT1', 'PAY_AMT2', 'PAY_AMT3', 'PAY_AMT4', 'PAY_AMT5', 'PAY_AMT6', 'default.payment.next.month']\n"
          ]
        }
      ]
    },
    {
      "cell_type": "markdown",
      "source": [
        "## **2.5 Recodificación de las variables**"
      ],
      "metadata": {
        "id": "Gzw3EJ5qewk7"
      }
    },
    {
      "cell_type": "code",
      "source": [
        "print(df.info())"
      ],
      "metadata": {
        "colab": {
          "base_uri": "https://localhost:8080/"
        },
        "id": "SURphjPYe0C5",
        "outputId": "d4a60d72-ccfa-4838-e0aa-c7c3133eafe2"
      },
      "execution_count": 7,
      "outputs": [
        {
          "output_type": "stream",
          "name": "stdout",
          "text": [
            "<class 'pandas.core.frame.DataFrame'>\n",
            "RangeIndex: 30000 entries, 0 to 29999\n",
            "Data columns (total 25 columns):\n",
            " #   Column                      Non-Null Count  Dtype  \n",
            "---  ------                      --------------  -----  \n",
            " 0   ID                          30000 non-null  int64  \n",
            " 1   LIMIT_BAL                   30000 non-null  float64\n",
            " 2   SEX                         30000 non-null  int64  \n",
            " 3   EDUCATION                   30000 non-null  int64  \n",
            " 4   MARRIAGE                    30000 non-null  int64  \n",
            " 5   AGE                         30000 non-null  int64  \n",
            " 6   PAY_0                       30000 non-null  int64  \n",
            " 7   PAY_2                       30000 non-null  int64  \n",
            " 8   PAY_3                       30000 non-null  int64  \n",
            " 9   PAY_4                       30000 non-null  int64  \n",
            " 10  PAY_5                       30000 non-null  int64  \n",
            " 11  PAY_6                       30000 non-null  int64  \n",
            " 12  BILL_AMT1                   30000 non-null  float64\n",
            " 13  BILL_AMT2                   30000 non-null  float64\n",
            " 14  BILL_AMT3                   30000 non-null  float64\n",
            " 15  BILL_AMT4                   30000 non-null  float64\n",
            " 16  BILL_AMT5                   30000 non-null  float64\n",
            " 17  BILL_AMT6                   30000 non-null  float64\n",
            " 18  PAY_AMT1                    30000 non-null  float64\n",
            " 19  PAY_AMT2                    30000 non-null  float64\n",
            " 20  PAY_AMT3                    30000 non-null  float64\n",
            " 21  PAY_AMT4                    30000 non-null  float64\n",
            " 22  PAY_AMT5                    30000 non-null  float64\n",
            " 23  PAY_AMT6                    30000 non-null  float64\n",
            " 24  default.payment.next.month  30000 non-null  int64  \n",
            "dtypes: float64(13), int64(12)\n",
            "memory usage: 5.7 MB\n",
            "None\n"
          ]
        }
      ]
    },
    {
      "cell_type": "markdown",
      "source": [
        "#Se deben recodificar algunas variables que Python no interpreta de manera correcta"
      ],
      "metadata": {
        "id": "OfjWzCVgt18x"
      }
    },
    {
      "cell_type": "code",
      "source": [
        "#En ocasiones se deben validar las variables y se comprueban con el diccionario en caso de ser variables categóricas\n",
        "df.SEX.value_counts()"
      ],
      "metadata": {
        "colab": {
          "base_uri": "https://localhost:8080/"
        },
        "id": "B4eaKba2vKud",
        "outputId": "31e76940-8c7c-4e2a-8217-6986f70e2792"
      },
      "execution_count": 8,
      "outputs": [
        {
          "output_type": "execute_result",
          "data": {
            "text/plain": [
              "2    18112\n",
              "1    11888\n",
              "Name: SEX, dtype: int64"
            ]
          },
          "metadata": {},
          "execution_count": 8
        }
      ]
    },
    {
      "cell_type": "code",
      "source": [
        "# Como se observa la variable SEX es de tipo Entero, lo que no es cierto entonces se convierte a categórica\n",
        "df.SEX=df.SEX.astype(\"category\")"
      ],
      "metadata": {
        "id": "B11SWi6Tvc8j"
      },
      "execution_count": 9,
      "outputs": []
    },
    {
      "cell_type": "code",
      "source": [
        "# Validar la variable EDUCATION para conocer de qué tipo es\n",
        "df.EDUCATION.value_counts()"
      ],
      "metadata": {
        "colab": {
          "base_uri": "https://localhost:8080/"
        },
        "id": "FSwqPM5bvy-i",
        "outputId": "e99a846f-e081-4fad-f354-4b483cec28bc"
      },
      "execution_count": 10,
      "outputs": [
        {
          "output_type": "execute_result",
          "data": {
            "text/plain": [
              "2    14030\n",
              "1    10585\n",
              "3     4917\n",
              "5      280\n",
              "4      123\n",
              "6       51\n",
              "0       14\n",
              "Name: EDUCATION, dtype: int64"
            ]
          },
          "metadata": {},
          "execution_count": 10
        }
      ]
    },
    {
      "cell_type": "code",
      "source": [
        "# EDUCATION es categórica además los calores 5 y 6 son desconoce el nivel educativo se proceden a integrarse en un solo valor\n",
        "df.EDUCATION[df.EDUCATION==6]=5 "
      ],
      "metadata": {
        "colab": {
          "base_uri": "https://localhost:8080/"
        },
        "id": "p7EFtKyVwCcC",
        "outputId": "85f07909-afc4-4dfa-a1bb-8d3c55e0d32d"
      },
      "execution_count": 11,
      "outputs": [
        {
          "output_type": "stream",
          "name": "stderr",
          "text": [
            "/usr/local/lib/python3.7/dist-packages/ipykernel_launcher.py:2: SettingWithCopyWarning: \n",
            "A value is trying to be set on a copy of a slice from a DataFrame\n",
            "\n",
            "See the caveats in the documentation: https://pandas.pydata.org/pandas-docs/stable/user_guide/indexing.html#returning-a-view-versus-a-copy\n",
            "  \n"
          ]
        }
      ]
    },
    {
      "cell_type": "code",
      "source": [
        "#Cuando existen datos con valores nulos (0), se deben definir dentro del df, para no cofundirlo con caulquier tipo de variable categórica, se procede llamando enntonces\n",
        "#a la librería Numpy as np\n",
        "df.EDUCATION[df.EDUCATION==0]=np.nan"
      ],
      "metadata": {
        "colab": {
          "base_uri": "https://localhost:8080/"
        },
        "id": "F-cLKMbc-Jt1",
        "outputId": "fc3aa1f5-ae37-4ecb-8e28-dcaf048711f5"
      },
      "execution_count": 12,
      "outputs": [
        {
          "output_type": "stream",
          "name": "stderr",
          "text": [
            "/usr/local/lib/python3.7/dist-packages/ipykernel_launcher.py:3: SettingWithCopyWarning: \n",
            "A value is trying to be set on a copy of a slice from a DataFrame\n",
            "\n",
            "See the caveats in the documentation: https://pandas.pydata.org/pandas-docs/stable/user_guide/indexing.html#returning-a-view-versus-a-copy\n",
            "  This is separate from the ipykernel package so we can avoid doing imports until\n"
          ]
        }
      ]
    },
    {
      "cell_type": "code",
      "source": [
        "#Ya que se unieron los valores desconocidos del nivel de educación se debe Covertir Educacion a variable Categorica\n",
        "df.EDUCATION=df.EDUCATION.astype(\"category\")"
      ],
      "metadata": {
        "id": "2kiSqGcr9Czw"
      },
      "execution_count": 13,
      "outputs": []
    },
    {
      "cell_type": "code",
      "source": [
        "## Se contin+ua con la Validación de la categoría  Estado Civil\n",
        "#Estado civil (1 = casado, 2 = soltero, 3 = otros)\n",
        "df.MARRIAGE.value_counts()"
      ],
      "metadata": {
        "colab": {
          "base_uri": "https://localhost:8080/"
        },
        "id": "0Kzw0I50-7Qy",
        "outputId": "688e9c2c-3b85-4973-8753-96e0b07d8109"
      },
      "execution_count": 14,
      "outputs": [
        {
          "output_type": "execute_result",
          "data": {
            "text/plain": [
              "2    15964\n",
              "1    13659\n",
              "3      323\n",
              "0       54\n",
              "Name: MARRIAGE, dtype: int64"
            ]
          },
          "metadata": {},
          "execution_count": 14
        }
      ]
    },
    {
      "cell_type": "code",
      "source": [
        "#Como hay datos con valor nulo(0), se hce lo mismo que la anterior categoría y se convierte a nulo\n"
      ],
      "metadata": {
        "id": "vuMQJqWg_KTx"
      },
      "execution_count": 15,
      "outputs": []
    },
    {
      "cell_type": "code",
      "source": [
        "#Cuando existen datos con valores nulos (0), se deben definir dentro del df, para no cofundirlo con caulquier tipo de variable categórica, se procede llamando enntonces\n",
        "#a la librería Numpy as np\n",
        "df.MARRIAGE[df.MARRIAGE==0]=np.nan"
      ],
      "metadata": {
        "colab": {
          "base_uri": "https://localhost:8080/"
        },
        "id": "KRcB2S4A_aLZ",
        "outputId": "57de37f6-fd24-4238-8988-7613d0e2eb3f"
      },
      "execution_count": 16,
      "outputs": [
        {
          "output_type": "stream",
          "name": "stderr",
          "text": [
            "/usr/local/lib/python3.7/dist-packages/ipykernel_launcher.py:3: SettingWithCopyWarning: \n",
            "A value is trying to be set on a copy of a slice from a DataFrame\n",
            "\n",
            "See the caveats in the documentation: https://pandas.pydata.org/pandas-docs/stable/user_guide/indexing.html#returning-a-view-versus-a-copy\n",
            "  This is separate from the ipykernel package so we can avoid doing imports until\n"
          ]
        }
      ]
    },
    {
      "cell_type": "code",
      "source": [
        "# Se pasa a covertir Estado civil en una variable categorica\n",
        "df.MARRIAGE=df.MARRIAGE.astype(\"category\")"
      ],
      "metadata": {
        "id": "zUUBU3he_322"
      },
      "execution_count": 17,
      "outputs": []
    },
    {
      "cell_type": "code",
      "source": [
        "#Ahora se validan varias ctegorías definidas en el dicicionario PAY a categorías\n",
        "df[[\"PAY_0\",\"PAY_2\",\"PAY_3\",\"PAY_4\",\"PAY_5\",\"PAY_6\"]]=df[[\"PAY_0\",\"PAY_2\",\"PAY_3\",\"PAY_4\",\"PAY_5\",\"PAY_6\"]].astype(\"category\")"
      ],
      "metadata": {
        "id": "2D-aQ9UqmNMz"
      },
      "execution_count": 18,
      "outputs": []
    },
    {
      "cell_type": "code",
      "source": [
        "## Ahora se valida la categoría default.payment.next.month\n",
        "df[\"default.payment.next.month\"].value_counts()"
      ],
      "metadata": {
        "colab": {
          "base_uri": "https://localhost:8080/"
        },
        "id": "G_qZ1GRcA78L",
        "outputId": "edce2626-35d3-4fef-f28f-01ebe183e063"
      },
      "execution_count": 19,
      "outputs": [
        {
          "output_type": "execute_result",
          "data": {
            "text/plain": [
              "0    23364\n",
              "1     6636\n",
              "Name: default.payment.next.month, dtype: int64"
            ]
          },
          "metadata": {},
          "execution_count": 19
        }
      ]
    },
    {
      "cell_type": "code",
      "source": [
        "# A la anterior categoría se le puede calcular el porcentaje y además renombrarla o cambiarle el nombre por ser extenso\n",
        "# Porcentaje así:\n",
        "df[\"default.payment.next.month\"].value_counts()/len(df)"
      ],
      "metadata": {
        "colab": {
          "base_uri": "https://localhost:8080/"
        },
        "id": "hV9maDPqBN45",
        "outputId": "fbbb70dc-f8c5-4d66-ec3e-dbbfdc78c1de"
      },
      "execution_count": 20,
      "outputs": [
        {
          "output_type": "execute_result",
          "data": {
            "text/plain": [
              "0    0.7788\n",
              "1    0.2212\n",
              "Name: default.payment.next.month, dtype: float64"
            ]
          },
          "metadata": {},
          "execution_count": 20
        }
      ]
    },
    {
      "cell_type": "code",
      "source": [
        "#Cambiar nombre o renombrarla así\n",
        "df.rename(columns={\"default.payment.next.month\":\"Mora\"},inplace=True)\n"
      ],
      "metadata": {
        "id": "AjvheN5LBkSY"
      },
      "execution_count": 21,
      "outputs": []
    },
    {
      "cell_type": "code",
      "source": [
        "# Se pasa entonces a convertir mora en variable categórica\n",
        "## Convertir Mora en Categorica\n",
        "df.Mora=df.Mora.astype(\"category\")"
      ],
      "metadata": {
        "id": "FDeeyN7cB1hw"
      },
      "execution_count": 22,
      "outputs": []
    },
    {
      "cell_type": "code",
      "source": [
        "print(df.info())\n"
      ],
      "metadata": {
        "colab": {
          "base_uri": "https://localhost:8080/"
        },
        "id": "qdf2RPb-mazb",
        "outputId": "b243274f-5d5d-4d9a-9b75-f9ce6fe9a7a8"
      },
      "execution_count": 23,
      "outputs": [
        {
          "output_type": "stream",
          "name": "stdout",
          "text": [
            "<class 'pandas.core.frame.DataFrame'>\n",
            "RangeIndex: 30000 entries, 0 to 29999\n",
            "Data columns (total 25 columns):\n",
            " #   Column     Non-Null Count  Dtype   \n",
            "---  ------     --------------  -----   \n",
            " 0   ID         30000 non-null  int64   \n",
            " 1   LIMIT_BAL  30000 non-null  float64 \n",
            " 2   SEX        30000 non-null  category\n",
            " 3   EDUCATION  29986 non-null  category\n",
            " 4   MARRIAGE   29946 non-null  category\n",
            " 5   AGE        30000 non-null  int64   \n",
            " 6   PAY_0      30000 non-null  category\n",
            " 7   PAY_2      30000 non-null  category\n",
            " 8   PAY_3      30000 non-null  category\n",
            " 9   PAY_4      30000 non-null  category\n",
            " 10  PAY_5      30000 non-null  category\n",
            " 11  PAY_6      30000 non-null  category\n",
            " 12  BILL_AMT1  30000 non-null  float64 \n",
            " 13  BILL_AMT2  30000 non-null  float64 \n",
            " 14  BILL_AMT3  30000 non-null  float64 \n",
            " 15  BILL_AMT4  30000 non-null  float64 \n",
            " 16  BILL_AMT5  30000 non-null  float64 \n",
            " 17  BILL_AMT6  30000 non-null  float64 \n",
            " 18  PAY_AMT1   30000 non-null  float64 \n",
            " 19  PAY_AMT2   30000 non-null  float64 \n",
            " 20  PAY_AMT3   30000 non-null  float64 \n",
            " 21  PAY_AMT4   30000 non-null  float64 \n",
            " 22  PAY_AMT5   30000 non-null  float64 \n",
            " 23  PAY_AMT6   30000 non-null  float64 \n",
            " 24  Mora       30000 non-null  category\n",
            "dtypes: category(10), float64(13), int64(2)\n",
            "memory usage: 3.7 MB\n",
            "None\n"
          ]
        }
      ]
    },
    {
      "cell_type": "markdown",
      "source": [
        "##**2.6 Tratamiento para los valores nulos**"
      ],
      "metadata": {
        "id": "b5q2mvfhCrBt"
      }
    },
    {
      "cell_type": "code",
      "source": [
        "df.isnull().sum()"
      ],
      "metadata": {
        "colab": {
          "base_uri": "https://localhost:8080/"
        },
        "id": "LoYm1HyoDY2j",
        "outputId": "ec5989a2-7b9a-4790-e84a-a28f3513c877"
      },
      "execution_count": 24,
      "outputs": [
        {
          "output_type": "execute_result",
          "data": {
            "text/plain": [
              "ID            0\n",
              "LIMIT_BAL     0\n",
              "SEX           0\n",
              "EDUCATION    14\n",
              "MARRIAGE     54\n",
              "AGE           0\n",
              "PAY_0         0\n",
              "PAY_2         0\n",
              "PAY_3         0\n",
              "PAY_4         0\n",
              "PAY_5         0\n",
              "PAY_6         0\n",
              "BILL_AMT1     0\n",
              "BILL_AMT2     0\n",
              "BILL_AMT3     0\n",
              "BILL_AMT4     0\n",
              "BILL_AMT5     0\n",
              "BILL_AMT6     0\n",
              "PAY_AMT1      0\n",
              "PAY_AMT2      0\n",
              "PAY_AMT3      0\n",
              "PAY_AMT4      0\n",
              "PAY_AMT5      0\n",
              "PAY_AMT6      0\n",
              "Mora          0\n",
              "dtype: int64"
            ]
          },
          "metadata": {},
          "execution_count": 24
        }
      ]
    },
    {
      "cell_type": "code",
      "source": [
        "df.isnull().sum()/len(df)"
      ],
      "metadata": {
        "colab": {
          "base_uri": "https://localhost:8080/"
        },
        "id": "vWKn-SdkDbRl",
        "outputId": "aa0e3e2a-0cbd-49aa-e4fb-a7c9a1b9ae5c"
      },
      "execution_count": 25,
      "outputs": [
        {
          "output_type": "execute_result",
          "data": {
            "text/plain": [
              "ID           0.000000\n",
              "LIMIT_BAL    0.000000\n",
              "SEX          0.000000\n",
              "EDUCATION    0.000467\n",
              "MARRIAGE     0.001800\n",
              "AGE          0.000000\n",
              "PAY_0        0.000000\n",
              "PAY_2        0.000000\n",
              "PAY_3        0.000000\n",
              "PAY_4        0.000000\n",
              "PAY_5        0.000000\n",
              "PAY_6        0.000000\n",
              "BILL_AMT1    0.000000\n",
              "BILL_AMT2    0.000000\n",
              "BILL_AMT3    0.000000\n",
              "BILL_AMT4    0.000000\n",
              "BILL_AMT5    0.000000\n",
              "BILL_AMT6    0.000000\n",
              "PAY_AMT1     0.000000\n",
              "PAY_AMT2     0.000000\n",
              "PAY_AMT3     0.000000\n",
              "PAY_AMT4     0.000000\n",
              "PAY_AMT5     0.000000\n",
              "PAY_AMT6     0.000000\n",
              "Mora         0.000000\n",
              "dtype: float64"
            ]
          },
          "metadata": {},
          "execution_count": 25
        }
      ]
    },
    {
      "cell_type": "markdown",
      "source": [
        "*Variables tipo categóricas se imputan por Moda\n",
        "*Variables numericas, por promedio si son normales, de lo contrario por la Mediana"
      ],
      "metadata": {
        "id": "E6Yq6cWVDm29"
      }
    },
    {
      "cell_type": "code",
      "source": [
        "from scipy import stats"
      ],
      "metadata": {
        "id": "tTnh28TyEAXU"
      },
      "execution_count": 26,
      "outputs": []
    },
    {
      "cell_type": "code",
      "source": [
        "#Para calcular la moda importamos stats de la librería scipy\n",
        "moda_EDUCATION=stats.mode(df.EDUCATION)\n",
        "print(moda_EDUCATION)"
      ],
      "metadata": {
        "colab": {
          "base_uri": "https://localhost:8080/"
        },
        "id": "UFRfi9a7EHAx",
        "outputId": "cdf47a99-7743-429d-e76e-bb9d13d6f2cf"
      },
      "execution_count": 27,
      "outputs": [
        {
          "output_type": "stream",
          "name": "stdout",
          "text": [
            "ModeResult(mode=array([2.]), count=array([14030]))\n"
          ]
        }
      ]
    },
    {
      "cell_type": "code",
      "source": [
        "print(moda_EDUCATION[0][0])"
      ],
      "metadata": {
        "colab": {
          "base_uri": "https://localhost:8080/"
        },
        "id": "B9uryHgHEjMp",
        "outputId": "85ba1bff-2071-44bf-a8de-13b791b36054"
      },
      "execution_count": 28,
      "outputs": [
        {
          "output_type": "stream",
          "name": "stdout",
          "text": [
            "2.0\n"
          ]
        }
      ]
    }
  ]
}