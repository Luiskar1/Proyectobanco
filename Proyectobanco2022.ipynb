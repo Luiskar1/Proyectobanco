{
  "nbformat": 4,
  "nbformat_minor": 0,
  "metadata": {
    "colab": {
      "name": "Proyectobanco2022.ipynb",
      "provenance": [],
      "collapsed_sections": [],
      "mount_file_id": "1wOd6v8mwz014Y7i1gvC4cf5Izs6jhtsK",
      "authorship_tag": "ABX9TyPuYxYXmSk+PwuhwW7GwK3O",
      "include_colab_link": true
    },
    "kernelspec": {
      "name": "python3",
      "display_name": "Python 3"
    },
    "language_info": {
      "name": "python"
    }
  },
  "cells": [
    {
      "cell_type": "markdown",
      "metadata": {
        "id": "view-in-github",
        "colab_type": "text"
      },
      "source": [
        "<a href=\"https://colab.research.google.com/github/Luiskar1/Proyectobanco/blob/main/Proyectobanco2022.ipynb\" target=\"_parent\"><img src=\"https://colab.research.google.com/assets/colab-badge.svg\" alt=\"Open In Colab\"/></a>"
      ]
    },
    {
      "cell_type": "markdown",
      "source": [
        "# **1) Descripción del Problema**\n",
        "\n",
        "Las amenazas financieras están mostrando una tendencia sobre el riesgo crediticio de los bancos comerciales a medida que ha surgido la increíble mejora en la industria financiera. De esta forma, una de las mayores amenazas a las que se enfrentan los bancos comerciales es la predicción del riesgo de los clientes de crédito.\n",
        "\n",
        "Los estudios recientes se centran principalmente en mejorar el rendimiento del clasificador para la predicción de incumplimiento de tarjetas en lugar de un modelo "
      ],
      "metadata": {
        "id": "cIp3YKFwWxuQ"
      }
    },
    {
      "cell_type": "markdown",
      "source": [
        "# **2) Descripción de los Datos**\n"
      ],
      "metadata": {
        "id": "KTmo8wrBY-AL"
      }
    },
    {
      "cell_type": "markdown",
      "source": [
        "##**2.1 Librerías**\n",
        "Llamar o instalar\n"
      ],
      "metadata": {
        "id": "GsdeetmMYzXK"
      }
    },
    {
      "cell_type": "code",
      "source": [
        "!pip install numpy"
      ],
      "metadata": {
        "colab": {
          "base_uri": "https://localhost:8080/"
        },
        "id": "elMa2nmHZ7aK",
        "outputId": "1c9f651f-1f5b-4ef2-9a5e-e18c67341052"
      },
      "execution_count": 1,
      "outputs": [
        {
          "output_type": "stream",
          "name": "stdout",
          "text": [
            "Requirement already satisfied: numpy in /usr/local/lib/python3.7/dist-packages (1.21.6)\n"
          ]
        }
      ]
    },
    {
      "cell_type": "code",
      "source": [
        "import numpy as np\n",
        "import pandas as pd\n"
      ],
      "metadata": {
        "id": "TZSSMWReaT1X"
      },
      "execution_count": 2,
      "outputs": []
    },
    {
      "cell_type": "markdown",
      "source": [
        "## **2.2 Importar datos**"
      ],
      "metadata": {
        "id": "pbiwl4Alaj7R"
      }
    },
    {
      "cell_type": "code",
      "source": [
        "url = \"https://raw.githubusercontent.com/Luiskar1/Proyectobanco/main/UCI_Credit_Card.csv\"\n",
        "df=pd.read_csv(url)"
      ],
      "metadata": {
        "id": "Vh8nYAMyanvv"
      },
      "execution_count": 3,
      "outputs": []
    },
    {
      "cell_type": "markdown",
      "source": [
        "##Encabezado"
      ],
      "metadata": {
        "id": "bJX7ThobcbEi"
      }
    },
    {
      "cell_type": "code",
      "source": [
        "df.head()"
      ],
      "metadata": {
        "colab": {
          "base_uri": "https://localhost:8080/",
          "height": 299
        },
        "id": "U5IrE1E9bzsu",
        "outputId": "3eca3a69-52ac-4d64-e07e-0dab04169595"
      },
      "execution_count": 4,
      "outputs": [
        {
          "output_type": "execute_result",
          "data": {
            "text/plain": [
              "   ID  LIMIT_BAL  SEX  EDUCATION  MARRIAGE  AGE  PAY_0  PAY_2  PAY_3  PAY_4  \\\n",
              "0   1    20000.0    2          2         1   24      2      2     -1     -1   \n",
              "1   2   120000.0    2          2         2   26     -1      2      0      0   \n",
              "2   3    90000.0    2          2         2   34      0      0      0      0   \n",
              "3   4    50000.0    2          2         1   37      0      0      0      0   \n",
              "4   5    50000.0    1          2         1   57     -1      0     -1      0   \n",
              "\n",
              "   ...  BILL_AMT4  BILL_AMT5  BILL_AMT6  PAY_AMT1  PAY_AMT2  PAY_AMT3  \\\n",
              "0  ...        0.0        0.0        0.0       0.0     689.0       0.0   \n",
              "1  ...     3272.0     3455.0     3261.0       0.0    1000.0    1000.0   \n",
              "2  ...    14331.0    14948.0    15549.0    1518.0    1500.0    1000.0   \n",
              "3  ...    28314.0    28959.0    29547.0    2000.0    2019.0    1200.0   \n",
              "4  ...    20940.0    19146.0    19131.0    2000.0   36681.0   10000.0   \n",
              "\n",
              "   PAY_AMT4  PAY_AMT5  PAY_AMT6  default.payment.next.month  \n",
              "0       0.0       0.0       0.0                           1  \n",
              "1    1000.0       0.0    2000.0                           1  \n",
              "2    1000.0    1000.0    5000.0                           0  \n",
              "3    1100.0    1069.0    1000.0                           0  \n",
              "4    9000.0     689.0     679.0                           0  \n",
              "\n",
              "[5 rows x 25 columns]"
            ],
            "text/html": [
              "\n",
              "  <div id=\"df-c6d29205-472b-49fa-81af-c9168668e6a3\">\n",
              "    <div class=\"colab-df-container\">\n",
              "      <div>\n",
              "<style scoped>\n",
              "    .dataframe tbody tr th:only-of-type {\n",
              "        vertical-align: middle;\n",
              "    }\n",
              "\n",
              "    .dataframe tbody tr th {\n",
              "        vertical-align: top;\n",
              "    }\n",
              "\n",
              "    .dataframe thead th {\n",
              "        text-align: right;\n",
              "    }\n",
              "</style>\n",
              "<table border=\"1\" class=\"dataframe\">\n",
              "  <thead>\n",
              "    <tr style=\"text-align: right;\">\n",
              "      <th></th>\n",
              "      <th>ID</th>\n",
              "      <th>LIMIT_BAL</th>\n",
              "      <th>SEX</th>\n",
              "      <th>EDUCATION</th>\n",
              "      <th>MARRIAGE</th>\n",
              "      <th>AGE</th>\n",
              "      <th>PAY_0</th>\n",
              "      <th>PAY_2</th>\n",
              "      <th>PAY_3</th>\n",
              "      <th>PAY_4</th>\n",
              "      <th>...</th>\n",
              "      <th>BILL_AMT4</th>\n",
              "      <th>BILL_AMT5</th>\n",
              "      <th>BILL_AMT6</th>\n",
              "      <th>PAY_AMT1</th>\n",
              "      <th>PAY_AMT2</th>\n",
              "      <th>PAY_AMT3</th>\n",
              "      <th>PAY_AMT4</th>\n",
              "      <th>PAY_AMT5</th>\n",
              "      <th>PAY_AMT6</th>\n",
              "      <th>default.payment.next.month</th>\n",
              "    </tr>\n",
              "  </thead>\n",
              "  <tbody>\n",
              "    <tr>\n",
              "      <th>0</th>\n",
              "      <td>1</td>\n",
              "      <td>20000.0</td>\n",
              "      <td>2</td>\n",
              "      <td>2</td>\n",
              "      <td>1</td>\n",
              "      <td>24</td>\n",
              "      <td>2</td>\n",
              "      <td>2</td>\n",
              "      <td>-1</td>\n",
              "      <td>-1</td>\n",
              "      <td>...</td>\n",
              "      <td>0.0</td>\n",
              "      <td>0.0</td>\n",
              "      <td>0.0</td>\n",
              "      <td>0.0</td>\n",
              "      <td>689.0</td>\n",
              "      <td>0.0</td>\n",
              "      <td>0.0</td>\n",
              "      <td>0.0</td>\n",
              "      <td>0.0</td>\n",
              "      <td>1</td>\n",
              "    </tr>\n",
              "    <tr>\n",
              "      <th>1</th>\n",
              "      <td>2</td>\n",
              "      <td>120000.0</td>\n",
              "      <td>2</td>\n",
              "      <td>2</td>\n",
              "      <td>2</td>\n",
              "      <td>26</td>\n",
              "      <td>-1</td>\n",
              "      <td>2</td>\n",
              "      <td>0</td>\n",
              "      <td>0</td>\n",
              "      <td>...</td>\n",
              "      <td>3272.0</td>\n",
              "      <td>3455.0</td>\n",
              "      <td>3261.0</td>\n",
              "      <td>0.0</td>\n",
              "      <td>1000.0</td>\n",
              "      <td>1000.0</td>\n",
              "      <td>1000.0</td>\n",
              "      <td>0.0</td>\n",
              "      <td>2000.0</td>\n",
              "      <td>1</td>\n",
              "    </tr>\n",
              "    <tr>\n",
              "      <th>2</th>\n",
              "      <td>3</td>\n",
              "      <td>90000.0</td>\n",
              "      <td>2</td>\n",
              "      <td>2</td>\n",
              "      <td>2</td>\n",
              "      <td>34</td>\n",
              "      <td>0</td>\n",
              "      <td>0</td>\n",
              "      <td>0</td>\n",
              "      <td>0</td>\n",
              "      <td>...</td>\n",
              "      <td>14331.0</td>\n",
              "      <td>14948.0</td>\n",
              "      <td>15549.0</td>\n",
              "      <td>1518.0</td>\n",
              "      <td>1500.0</td>\n",
              "      <td>1000.0</td>\n",
              "      <td>1000.0</td>\n",
              "      <td>1000.0</td>\n",
              "      <td>5000.0</td>\n",
              "      <td>0</td>\n",
              "    </tr>\n",
              "    <tr>\n",
              "      <th>3</th>\n",
              "      <td>4</td>\n",
              "      <td>50000.0</td>\n",
              "      <td>2</td>\n",
              "      <td>2</td>\n",
              "      <td>1</td>\n",
              "      <td>37</td>\n",
              "      <td>0</td>\n",
              "      <td>0</td>\n",
              "      <td>0</td>\n",
              "      <td>0</td>\n",
              "      <td>...</td>\n",
              "      <td>28314.0</td>\n",
              "      <td>28959.0</td>\n",
              "      <td>29547.0</td>\n",
              "      <td>2000.0</td>\n",
              "      <td>2019.0</td>\n",
              "      <td>1200.0</td>\n",
              "      <td>1100.0</td>\n",
              "      <td>1069.0</td>\n",
              "      <td>1000.0</td>\n",
              "      <td>0</td>\n",
              "    </tr>\n",
              "    <tr>\n",
              "      <th>4</th>\n",
              "      <td>5</td>\n",
              "      <td>50000.0</td>\n",
              "      <td>1</td>\n",
              "      <td>2</td>\n",
              "      <td>1</td>\n",
              "      <td>57</td>\n",
              "      <td>-1</td>\n",
              "      <td>0</td>\n",
              "      <td>-1</td>\n",
              "      <td>0</td>\n",
              "      <td>...</td>\n",
              "      <td>20940.0</td>\n",
              "      <td>19146.0</td>\n",
              "      <td>19131.0</td>\n",
              "      <td>2000.0</td>\n",
              "      <td>36681.0</td>\n",
              "      <td>10000.0</td>\n",
              "      <td>9000.0</td>\n",
              "      <td>689.0</td>\n",
              "      <td>679.0</td>\n",
              "      <td>0</td>\n",
              "    </tr>\n",
              "  </tbody>\n",
              "</table>\n",
              "<p>5 rows × 25 columns</p>\n",
              "</div>\n",
              "      <button class=\"colab-df-convert\" onclick=\"convertToInteractive('df-c6d29205-472b-49fa-81af-c9168668e6a3')\"\n",
              "              title=\"Convert this dataframe to an interactive table.\"\n",
              "              style=\"display:none;\">\n",
              "        \n",
              "  <svg xmlns=\"http://www.w3.org/2000/svg\" height=\"24px\"viewBox=\"0 0 24 24\"\n",
              "       width=\"24px\">\n",
              "    <path d=\"M0 0h24v24H0V0z\" fill=\"none\"/>\n",
              "    <path d=\"M18.56 5.44l.94 2.06.94-2.06 2.06-.94-2.06-.94-.94-2.06-.94 2.06-2.06.94zm-11 1L8.5 8.5l.94-2.06 2.06-.94-2.06-.94L8.5 2.5l-.94 2.06-2.06.94zm10 10l.94 2.06.94-2.06 2.06-.94-2.06-.94-.94-2.06-.94 2.06-2.06.94z\"/><path d=\"M17.41 7.96l-1.37-1.37c-.4-.4-.92-.59-1.43-.59-.52 0-1.04.2-1.43.59L10.3 9.45l-7.72 7.72c-.78.78-.78 2.05 0 2.83L4 21.41c.39.39.9.59 1.41.59.51 0 1.02-.2 1.41-.59l7.78-7.78 2.81-2.81c.8-.78.8-2.07 0-2.86zM5.41 20L4 18.59l7.72-7.72 1.47 1.35L5.41 20z\"/>\n",
              "  </svg>\n",
              "      </button>\n",
              "      \n",
              "  <style>\n",
              "    .colab-df-container {\n",
              "      display:flex;\n",
              "      flex-wrap:wrap;\n",
              "      gap: 12px;\n",
              "    }\n",
              "\n",
              "    .colab-df-convert {\n",
              "      background-color: #E8F0FE;\n",
              "      border: none;\n",
              "      border-radius: 50%;\n",
              "      cursor: pointer;\n",
              "      display: none;\n",
              "      fill: #1967D2;\n",
              "      height: 32px;\n",
              "      padding: 0 0 0 0;\n",
              "      width: 32px;\n",
              "    }\n",
              "\n",
              "    .colab-df-convert:hover {\n",
              "      background-color: #E2EBFA;\n",
              "      box-shadow: 0px 1px 2px rgba(60, 64, 67, 0.3), 0px 1px 3px 1px rgba(60, 64, 67, 0.15);\n",
              "      fill: #174EA6;\n",
              "    }\n",
              "\n",
              "    [theme=dark] .colab-df-convert {\n",
              "      background-color: #3B4455;\n",
              "      fill: #D2E3FC;\n",
              "    }\n",
              "\n",
              "    [theme=dark] .colab-df-convert:hover {\n",
              "      background-color: #434B5C;\n",
              "      box-shadow: 0px 1px 3px 1px rgba(0, 0, 0, 0.15);\n",
              "      filter: drop-shadow(0px 1px 2px rgba(0, 0, 0, 0.3));\n",
              "      fill: #FFFFFF;\n",
              "    }\n",
              "  </style>\n",
              "\n",
              "      <script>\n",
              "        const buttonEl =\n",
              "          document.querySelector('#df-c6d29205-472b-49fa-81af-c9168668e6a3 button.colab-df-convert');\n",
              "        buttonEl.style.display =\n",
              "          google.colab.kernel.accessAllowed ? 'block' : 'none';\n",
              "\n",
              "        async function convertToInteractive(key) {\n",
              "          const element = document.querySelector('#df-c6d29205-472b-49fa-81af-c9168668e6a3');\n",
              "          const dataTable =\n",
              "            await google.colab.kernel.invokeFunction('convertToInteractive',\n",
              "                                                     [key], {});\n",
              "          if (!dataTable) return;\n",
              "\n",
              "          const docLinkHtml = 'Like what you see? Visit the ' +\n",
              "            '<a target=\"_blank\" href=https://colab.research.google.com/notebooks/data_table.ipynb>data table notebook</a>'\n",
              "            + ' to learn more about interactive tables.';\n",
              "          element.innerHTML = '';\n",
              "          dataTable['output_type'] = 'display_data';\n",
              "          await google.colab.output.renderOutput(dataTable, element);\n",
              "          const docLink = document.createElement('div');\n",
              "          docLink.innerHTML = docLinkHtml;\n",
              "          element.appendChild(docLink);\n",
              "        }\n",
              "      </script>\n",
              "    </div>\n",
              "  </div>\n",
              "  "
            ]
          },
          "metadata": {},
          "execution_count": 4
        }
      ]
    },
    {
      "cell_type": "markdown",
      "source": [
        "## **2.3 Dimension BD**"
      ],
      "metadata": {
        "id": "i1jhEFTgchlK"
      }
    },
    {
      "cell_type": "code",
      "source": [
        "print(df.shape)"
      ],
      "metadata": {
        "colab": {
          "base_uri": "https://localhost:8080/"
        },
        "id": "BZU5twgNcj2j",
        "outputId": "a4beadf5-0b92-4ed8-9005-47a9989ae9b8"
      },
      "execution_count": 5,
      "outputs": [
        {
          "output_type": "stream",
          "name": "stdout",
          "text": [
            "(30000, 25)\n"
          ]
        }
      ]
    },
    {
      "cell_type": "markdown",
      "source": [
        "##**2.4 Diccionario**\n",
        "ID : ID de cada cliente\n",
        "Monto_Credito : cantidad del crédito otorgado en dólares NT (incluye crédito individual y familiar / suplementario\n",
        "SEXO : Género (1 = masculino, 2 = femenino)\n",
        "EDUCACIÓN : (1 = posgrado, 2 = universidad, 3 = bachillerato, 4 = otros, 5 = desconocido, 6 = desconocido)\n",
        "MATRIMONIO : Estado civil (1 = casado, 2 = soltero, 3 = otros)\n",
        "EDAD : Edad en años\n",
        "PAY_0 : Estado de reembolso en septiembre de 2005 (-1 = pago debidamente, 1 = retraso en el pago durante un mes, 2 = retraso en el pago durante dos meses,… 8 = retraso en el pago durante ocho meses, 9 = retraso en el pago durante nueve meses o más)\n",
        "PAY_2 : Estado de reembolso en agosto de 2005 (escala igual a la anterior)\n",
        "PAY_3 : Estado de reembolso en julio de 2005 (escala igual a la anterior)\n",
        "PAY_4 : Estado de reembolso en junio de 2005 (escala igual a la anterior)\n",
        "PAY_5 : Estado de reembolso en mayo de 2005 (escala igual a la anterior)\n",
        "PAY_6 : Estado de reembolso en abril de 2005 (escala igual a la anterior)\n",
        "BILL_AMT1 : Monto del extracto de la factura en septiembre de 2005 (dólar NT)\n",
        "BILL_AMT2 : Monto del extracto de la factura en agosto de 2005 (dólar NT)\n",
        "BILL_AMT3 : Monto del extracto de la factura en julio de 2005 (dólar NT)\n",
        "BILL_AMT4 : Monto del extracto de la factura en junio de 2005 (dólar NT)\n",
        "BILL_AMT5 : Monto del extracto de la factura en mayo de 2005 (dólar NT)\n",
        "BILL_AMT6 : Monto del extracto de la factura en abril de 2005 (dólar NT)\n",
        "PAY_AMT1 : Monto del pago anterior en septiembre de 2005 (dólar NT)\n",
        "PAY_AMT2 : Monto del pago anterior en agosto de 2005 (dólar NT)\n",
        "PAY_AMT3 : Monto del pago anterior en julio de 2005 (dólar NT)\n",
        "PAY_AMT4 : Monto del pago anterior en junio de 2005 (dólar NT)\n",
        "PAY_AMT5 : Monto del pago anterior en mayo de 2005 (dólar NT)\n",
        "PAY_AMT6 : Monto del pago anterior en abril de 2005 (dólar NT)\n",
        "default.payment.next.month : pago predeterminado (1 = sí, 0 = no)"
      ],
      "metadata": {
        "id": "8y5RHcA9cs-T"
      }
    },
    {
      "cell_type": "code",
      "source": [
        "print(df.columns.to_list())"
      ],
      "metadata": {
        "colab": {
          "base_uri": "https://localhost:8080/"
        },
        "id": "LdsIHGMRc5GQ",
        "outputId": "de996113-e6d6-4a85-b34d-422a06d12e40"
      },
      "execution_count": 6,
      "outputs": [
        {
          "output_type": "stream",
          "name": "stdout",
          "text": [
            "['ID', 'LIMIT_BAL', 'SEX', 'EDUCATION', 'MARRIAGE', 'AGE', 'PAY_0', 'PAY_2', 'PAY_3', 'PAY_4', 'PAY_5', 'PAY_6', 'BILL_AMT1', 'BILL_AMT2', 'BILL_AMT3', 'BILL_AMT4', 'BILL_AMT5', 'BILL_AMT6', 'PAY_AMT1', 'PAY_AMT2', 'PAY_AMT3', 'PAY_AMT4', 'PAY_AMT5', 'PAY_AMT6', 'default.payment.next.month']\n"
          ]
        }
      ]
    },
    {
      "cell_type": "markdown",
      "source": [
        "## **2.5 Recodificación de las variables**"
      ],
      "metadata": {
        "id": "Gzw3EJ5qewk7"
      }
    },
    {
      "cell_type": "code",
      "source": [
        "print(df.info())"
      ],
      "metadata": {
        "colab": {
          "base_uri": "https://localhost:8080/"
        },
        "id": "SURphjPYe0C5",
        "outputId": "702b9c3b-23f6-4e85-faf9-93e62c59cd74"
      },
      "execution_count": 11,
      "outputs": [
        {
          "output_type": "stream",
          "name": "stdout",
          "text": [
            "<class 'pandas.core.frame.DataFrame'>\n",
            "RangeIndex: 30000 entries, 0 to 29999\n",
            "Data columns (total 25 columns):\n",
            " #   Column                      Non-Null Count  Dtype   \n",
            "---  ------                      --------------  -----   \n",
            " 0   ID                          30000 non-null  object  \n",
            " 1   LIMIT_BAL                   30000 non-null  float64 \n",
            " 2   SEX                         30000 non-null  int64   \n",
            " 3   EDUCATION                   30000 non-null  int64   \n",
            " 4   MARRIAGE                    30000 non-null  int64   \n",
            " 5   AGE                         30000 non-null  int64   \n",
            " 6   PAY_0                       30000 non-null  category\n",
            " 7   PAY_2                       30000 non-null  category\n",
            " 8   PAY_3                       30000 non-null  category\n",
            " 9   PAY_4                       30000 non-null  category\n",
            " 10  PAY_5                       30000 non-null  category\n",
            " 11  PAY_6                       30000 non-null  category\n",
            " 12  BILL_AMT1                   30000 non-null  float64 \n",
            " 13  BILL_AMT2                   30000 non-null  float64 \n",
            " 14  BILL_AMT3                   30000 non-null  float64 \n",
            " 15  BILL_AMT4                   30000 non-null  float64 \n",
            " 16  BILL_AMT5                   30000 non-null  float64 \n",
            " 17  BILL_AMT6                   30000 non-null  float64 \n",
            " 18  PAY_AMT1                    30000 non-null  float64 \n",
            " 19  PAY_AMT2                    30000 non-null  float64 \n",
            " 20  PAY_AMT3                    30000 non-null  float64 \n",
            " 21  PAY_AMT4                    30000 non-null  float64 \n",
            " 22  PAY_AMT5                    30000 non-null  float64 \n",
            " 23  PAY_AMT6                    30000 non-null  float64 \n",
            " 24  default.payment.next.month  30000 non-null  int64   \n",
            "dtypes: category(6), float64(13), int64(5), object(1)\n",
            "memory usage: 4.5+ MB\n",
            "None\n"
          ]
        }
      ]
    },
    {
      "cell_type": "markdown",
      "source": [
        "#Se deben recodificar algunas variables que Python no interpreta de manera correcta"
      ],
      "metadata": {
        "id": "OfjWzCVgt18x"
      }
    },
    {
      "cell_type": "code",
      "source": [
        "#ID debe ser tipo string\n",
        "df.ID=df.ID.astype(str)\n",
        "\n"
      ],
      "metadata": {
        "id": "kXx1IhDvfcBI"
      },
      "execution_count": 8,
      "outputs": []
    },
    {
      "cell_type": "code",
      "source": [
        "#En ocasiones se deben validar las variables y se comprueban con el diccionario en caso de ser variables categóricas\n",
        "df.SEX.value_counts()"
      ],
      "metadata": {
        "colab": {
          "base_uri": "https://localhost:8080/"
        },
        "id": "B4eaKba2vKud",
        "outputId": "74e60910-42b4-4f0e-e19d-1b4549ff5f4c"
      },
      "execution_count": 12,
      "outputs": [
        {
          "output_type": "execute_result",
          "data": {
            "text/plain": [
              "2    18112\n",
              "1    11888\n",
              "Name: SEX, dtype: int64"
            ]
          },
          "metadata": {},
          "execution_count": 12
        }
      ]
    },
    {
      "cell_type": "code",
      "source": [
        "# Como se observa la variable SEX es de tipo Entero, lo que no es cierto entonces se coniverte a categórica\n",
        "df.SEX=df.SEX.astype(\"category\")"
      ],
      "metadata": {
        "id": "B11SWi6Tvc8j"
      },
      "execution_count": 13,
      "outputs": []
    },
    {
      "cell_type": "code",
      "source": [
        "# Validar la variable EDUCATION para conocer de qué tipo es\n",
        "df.EDUCATION.value_counts()"
      ],
      "metadata": {
        "colab": {
          "base_uri": "https://localhost:8080/"
        },
        "id": "FSwqPM5bvy-i",
        "outputId": "dd6f4177-f604-403d-fec4-eabf6466cf0f"
      },
      "execution_count": 14,
      "outputs": [
        {
          "output_type": "execute_result",
          "data": {
            "text/plain": [
              "2    14030\n",
              "1    10585\n",
              "3     4917\n",
              "5      280\n",
              "4      123\n",
              "6       51\n",
              "0       14\n",
              "Name: EDUCATION, dtype: int64"
            ]
          },
          "metadata": {},
          "execution_count": 14
        }
      ]
    },
    {
      "cell_type": "code",
      "source": [
        "# EDUCATION también es categórica,  "
      ],
      "metadata": {
        "id": "p7EFtKyVwCcC"
      },
      "execution_count": null,
      "outputs": []
    },
    {
      "cell_type": "markdown",
      "source": [
        ""
      ],
      "metadata": {
        "id": "9IDYeK27vcFW"
      }
    },
    {
      "cell_type": "code",
      "source": [
        "df[[\"PAY_0\",\"PAY_2\",\"PAY_3\",\"PAY_4\",\"PAY_5\",\"PAY_6\"]]=df[[\"PAY_0\",\"PAY_2\",\"PAY_3\",\"PAY_4\",\"PAY_5\",\"PAY_6\"]].astype(\"category\")"
      ],
      "metadata": {
        "id": "2D-aQ9UqmNMz"
      },
      "execution_count": 9,
      "outputs": []
    },
    {
      "cell_type": "code",
      "source": [
        "print(df.info())"
      ],
      "metadata": {
        "colab": {
          "base_uri": "https://localhost:8080/"
        },
        "id": "qdf2RPb-mazb",
        "outputId": "d5010627-cff3-4768-d12c-9465eb3635a0"
      },
      "execution_count": 10,
      "outputs": [
        {
          "output_type": "stream",
          "name": "stdout",
          "text": [
            "<class 'pandas.core.frame.DataFrame'>\n",
            "RangeIndex: 30000 entries, 0 to 29999\n",
            "Data columns (total 25 columns):\n",
            " #   Column                      Non-Null Count  Dtype   \n",
            "---  ------                      --------------  -----   \n",
            " 0   ID                          30000 non-null  object  \n",
            " 1   LIMIT_BAL                   30000 non-null  float64 \n",
            " 2   SEX                         30000 non-null  int64   \n",
            " 3   EDUCATION                   30000 non-null  int64   \n",
            " 4   MARRIAGE                    30000 non-null  int64   \n",
            " 5   AGE                         30000 non-null  int64   \n",
            " 6   PAY_0                       30000 non-null  category\n",
            " 7   PAY_2                       30000 non-null  category\n",
            " 8   PAY_3                       30000 non-null  category\n",
            " 9   PAY_4                       30000 non-null  category\n",
            " 10  PAY_5                       30000 non-null  category\n",
            " 11  PAY_6                       30000 non-null  category\n",
            " 12  BILL_AMT1                   30000 non-null  float64 \n",
            " 13  BILL_AMT2                   30000 non-null  float64 \n",
            " 14  BILL_AMT3                   30000 non-null  float64 \n",
            " 15  BILL_AMT4                   30000 non-null  float64 \n",
            " 16  BILL_AMT5                   30000 non-null  float64 \n",
            " 17  BILL_AMT6                   30000 non-null  float64 \n",
            " 18  PAY_AMT1                    30000 non-null  float64 \n",
            " 19  PAY_AMT2                    30000 non-null  float64 \n",
            " 20  PAY_AMT3                    30000 non-null  float64 \n",
            " 21  PAY_AMT4                    30000 non-null  float64 \n",
            " 22  PAY_AMT5                    30000 non-null  float64 \n",
            " 23  PAY_AMT6                    30000 non-null  float64 \n",
            " 24  default.payment.next.month  30000 non-null  int64   \n",
            "dtypes: category(6), float64(13), int64(5), object(1)\n",
            "memory usage: 4.5+ MB\n",
            "None\n"
          ]
        }
      ]
    }
  ]
}